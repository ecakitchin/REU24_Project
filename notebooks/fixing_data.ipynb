{
 "cells": [
  {
   "cell_type": "markdown",
   "metadata": {},
   "source": [
    "# Fixing Everything"
   ]
  },
  {
   "cell_type": "code",
   "execution_count": 2,
   "metadata": {},
   "outputs": [],
   "source": [
    "import os\n",
    "import random\n",
    "import torch\n",
    "from torch.utils.data import DataLoader, Dataset\n",
    "from torchvision import transforms\n",
    "from sklearn.model_selection import train_test_split\n",
    "from PIL import Image\n",
    "import cv2\n",
    "import numpy as np\n"
   ]
  },
  {
   "cell_type": "code",
   "execution_count": 3,
   "metadata": {},
   "outputs": [],
   "source": [
    "transform = transforms.Compose([\n",
    "    transforms.ToTensor(),\n",
    "    transforms.Resize((256, 256)),  # Resize images and masks to (256, 256)\n",
    "    transforms.Normalize((0.5,), (0.5,))\n",
    "])\n"
   ]
  },
  {
   "cell_type": "code",
   "execution_count": 4,
   "metadata": {},
   "outputs": [],
   "source": [
    "class SegmentationDataset(Dataset):\n",
    "    def __init__(self, images_list, masks_dir, transform=None):\n",
    "        self.images_list = images_list\n",
    "        self.masks_dir = masks_dir\n",
    "        self.transform = transform\n",
    "    \n",
    "    def __len__(self):\n",
    "        return len(self.images_list)\n",
    "    \n",
    "    def __getitem__(self, idx):\n",
    "        img_path = self.images_list[idx]\n",
    "        img_name = os.path.basename(img_path)\n",
    "        \n",
    "        # Adjust the mask filename here if needed\n",
    "        mask_name = img_name.replace(\".png\", \".png\")  # Example adjustment\n",
    "        \n",
    "        mask_path = os.path.join(self.masks_dir, mask_name)\n",
    "        \n",
    "        img = cv2.imread(img_path)\n",
    "        mask = cv2.imread(mask_path, cv2.IMREAD_GRAYSCALE)\n",
    "        \n",
    "        if img is None or mask is None:\n",
    "            print(f\"Warning: Failed to load image or mask for {img_name}\")\n",
    "            return self.__getitem__((idx + 1) % len(self.images_list))  # Skip this item and get the next one\n",
    "        \n",
    "        if self.transform:\n",
    "            img = self.transform(Image.fromarray(cv2.cvtColor(img, cv2.COLOR_BGR2RGB)))\n",
    "            mask = self.transform(Image.fromarray(mask))\n",
    "        \n",
    "        return img, mask\n"
   ]
  },
  {
   "cell_type": "code",
   "execution_count": 5,
   "metadata": {},
   "outputs": [
    {
     "name": "stdout",
     "output_type": "stream",
     "text": [
      "Total images: 77\n",
      "Training images: 61\n",
      "Validation images: 8\n",
      "Testing images: 8\n"
     ]
    }
   ],
   "source": [
    "# Define directories\n",
    "images_dir = '/Users/maryamrehmatulla/Desktop/test_images'\n",
    "masks_dir = '/Users/maryamrehmatulla/Desktop/test_masks'\n",
    "\n",
    "# Get list of all images\n",
    "all_images = [os.path.join(images_dir, img) for img in os.listdir(images_dir) if img.endswith('.png')]\n",
    "\n",
    "# Split data into train, validation, and test sets (80%, 10%, 10%)\n",
    "train_images, test_images = train_test_split(all_images, test_size=0.2, random_state=42)\n",
    "val_images, test_images = train_test_split(test_images, test_size=0.5, random_state=42)\n",
    "\n",
    "print(f'Total images: {len(all_images)}')\n",
    "print(f'Training images: {len(train_images)}')\n",
    "print(f'Validation images: {len(val_images)}')\n",
    "print(f'Testing images: {len(test_images)}')\n"
   ]
  },
  {
   "cell_type": "code",
   "execution_count": 6,
   "metadata": {},
   "outputs": [
    {
     "name": "stdout",
     "output_type": "stream",
     "text": [
      "torch.Size([16, 3, 256, 256]) torch.Size([16, 1, 256, 256])\n"
     ]
    }
   ],
   "source": [
    "# Create datasets\n",
    "train_dataset = SegmentationDataset(train_images, masks_dir, transform=transform)\n",
    "val_dataset = SegmentationDataset(val_images, masks_dir, transform=transform)\n",
    "test_dataset = SegmentationDataset(test_images, masks_dir, transform=transform)\n",
    "\n",
    "# Create dataloaders\n",
    "train_loader = DataLoader(train_dataset, batch_size=16, shuffle=True)\n",
    "val_loader = DataLoader(val_dataset, batch_size=16, shuffle=False)\n",
    "test_loader = DataLoader(test_dataset, batch_size=16, shuffle=False)\n",
    "\n",
    "# Example to check if everything is working\n",
    "for imgs, masks in train_loader:\n",
    "    print(imgs.shape, masks.shape)\n",
    "    break\n"
   ]
  },
  {
   "cell_type": "markdown",
   "metadata": {},
   "source": [
    "# Running the data!"
   ]
  },
  {
   "cell_type": "code",
   "execution_count": 8,
   "metadata": {},
   "outputs": [
    {
     "name": "stdout",
     "output_type": "stream",
     "text": [
      "Epoch 1/25, Training Loss: 0.7354, Validation Loss: 0.7283\n",
      "Epoch 2/25, Training Loss: 0.7251, Validation Loss: 0.7166\n",
      "Epoch 3/25, Training Loss: 0.7113, Validation Loss: 0.6995\n",
      "Epoch 4/25, Training Loss: 0.6916, Validation Loss: 0.6747\n",
      "Epoch 5/25, Training Loss: 0.6575, Validation Loss: 0.6170\n",
      "Epoch 6/25, Training Loss: 0.5314, Validation Loss: 0.4368\n",
      "Epoch 7/25, Training Loss: 0.3733, Validation Loss: 0.3758\n",
      "Epoch 8/25, Training Loss: 0.3382, Validation Loss: 0.3508\n",
      "Epoch 9/25, Training Loss: 0.3164, Validation Loss: 0.3254\n",
      "Epoch 10/25, Training Loss: 0.2914, Validation Loss: 0.3124\n",
      "Epoch 11/25, Training Loss: 0.2733, Validation Loss: 0.3065\n",
      "Epoch 12/25, Training Loss: 0.2559, Validation Loss: 0.2880\n",
      "Epoch 13/25, Training Loss: 0.2383, Validation Loss: 0.2787\n"
     ]
    }
   ],
   "source": [
    "import torch\n",
    "import torch.optim as optim\n",
    "import torch.nn as nn\n",
    "import torch.nn.functional as F\n",
    "from torch.utils.data import DataLoader\n",
    "\n",
    "# Import your UNet model\n",
    "from Model import UNet  # Ensure Model.py is in the same directory or update the path accordingly\n",
    "\n",
    "# Create datasets\n",
    "train_dataset = SegmentationDataset(train_images, masks_dir, transform=transform)\n",
    "val_dataset = SegmentationDataset(val_images, masks_dir, transform=transform)\n",
    "test_dataset = SegmentationDataset(test_images, masks_dir, transform=transform)\n",
    "\n",
    "# Create dataloaders\n",
    "train_loader = DataLoader(train_dataset, batch_size=16, shuffle=True)\n",
    "val_loader = DataLoader(val_dataset, batch_size=16, shuffle=False)\n",
    "test_loader = DataLoader(test_dataset, batch_size=16, shuffle=False)\n",
    "\n",
    "# Initialize model, loss function, and optimizer\n",
    "model = UNet(n_class=1)  # Adjust n_class based on your number of output classes\n",
    "criterion = nn.BCEWithLogitsLoss()  # or nn.CrossEntropyLoss() if you have more classes\n",
    "optimizer = optim.Adam(model.parameters(), lr=1e-4)\n",
    "\n",
    "# Training function\n",
    "def train_model(model, train_loader, val_loader, criterion, optimizer, num_epochs=25):\n",
    "    device = torch.device(\"cuda\" if torch.cuda.is_available() else \"cpu\")\n",
    "    model.to(device)\n",
    "\n",
    "    for epoch in range(num_epochs):\n",
    "        model.train()\n",
    "        train_loss = 0.0\n",
    "        \n",
    "        for imgs, masks in train_loader:\n",
    "            imgs, masks = imgs.to(device), masks.to(device)\n",
    "            \n",
    "            optimizer.zero_grad()\n",
    "            outputs = model(imgs)\n",
    "            loss = criterion(outputs, masks)\n",
    "            loss.backward()\n",
    "            optimizer.step()\n",
    "            \n",
    "            train_loss += loss.item() * imgs.size(0)\n",
    "        \n",
    "        train_loss /= len(train_loader.dataset)\n",
    "        \n",
    "        model.eval()\n",
    "        val_loss = 0.0\n",
    "        \n",
    "        with torch.no_grad():\n",
    "            for imgs, masks in val_loader:\n",
    "                imgs, masks = imgs.to(device), masks.to(device)\n",
    "                \n",
    "                outputs = model(imgs)\n",
    "                loss = criterion(outputs, masks)\n",
    "                \n",
    "                val_loss += loss.item() * imgs.size(0)\n",
    "        \n",
    "        val_loss /= len(val_loader.dataset)\n",
    "        \n",
    "        print(f\"Epoch {epoch+1}/{num_epochs}, Training Loss: {train_loss:.4f}, Validation Loss: {val_loss:.4f}\")\n",
    "    \n",
    "    return model\n",
    "\n",
    "# Train the model\n",
    "num_epochs = 25\n",
    "trained_model = train_model(model, train_loader, val_loader, criterion, optimizer, num_epochs=num_epochs)\n",
    "\n",
    "# Evaluate on test set and visualize predictions\n",
    "def evaluate_model(model, test_loader):\n",
    "    device = torch.device(\"cuda\" if torch.cuda.is_available() else \"cpu\")\n",
    "    model.to(device)\n",
    "    model.eval()\n",
    "\n",
    "    test_loss = 0.0\n",
    "    with torch.no_grad():\n",
    "        for imgs, masks in test_loader:\n",
    "            imgs, masks = imgs.to(device), masks.to(device)\n",
    "            \n",
    "            outputs = model(imgs)\n",
    "            loss = criterion(outputs, masks)\n",
    "            \n",
    "            test_loss += loss.item() * imgs.size(0)\n",
    "    \n",
    "    test_loss /= len(test_loader.dataset)\n",
    "    print(f\"Test Loss: {test_loss:.4f}\")\n",
    "\n",
    "evaluate_model(trained_model, test_loader)\n",
    "\n",
    "# Visualize predictions\n",
    "import matplotlib.pyplot as plt\n",
    "\n",
    "def visualize_predictions(model, test_loader, num_images=5):\n",
    "    device = torch.device(\"cuda\" if torch.cuda.is_available() else \"cpu\")\n",
    "    model.to(device)\n",
    "    model.eval()\n",
    "\n",
    "    with torch.no_grad():\n",
    "        for i, (imgs, masks) in enumerate(test_loader):\n",
    "            if i >= num_images:\n",
    "                break\n",
    "\n",
    "            imgs, masks = imgs.to(device), masks.to(device)\n",
    "            outputs = model(imgs)\n",
    "            preds = torch.sigmoid(outputs).cpu().numpy() > 0.5  # Threshold for binary classification\n",
    "\n",
    "            fig, ax = plt.subplots(1, 3, figsize=(15, 5))\n",
    "            ax[0].imshow(imgs[0].cpu().numpy().transpose(1, 2, 0))\n",
    "            ax[0].set_title(\"Image\")\n",
    "            ax[1].imshow(masks[0].cpu().numpy(), cmap='gray')\n",
    "            ax[1].set_title(\"Ground Truth\")\n",
    "            ax[2].imshow(preds[0, 0], cmap='gray')\n",
    "            ax[2].set_title(\"Prediction\")\n",
    "            plt.show()\n",
    "\n",
    "visualize_predictions(trained_model, test_loader)\n"
   ]
  }
 ],
 "metadata": {
  "kernelspec": {
   "display_name": "base",
   "language": "python",
   "name": "python3"
  },
  "language_info": {
   "codemirror_mode": {
    "name": "ipython",
    "version": 3
   },
   "file_extension": ".py",
   "mimetype": "text/x-python",
   "name": "python",
   "nbconvert_exporter": "python",
   "pygments_lexer": "ipython3",
   "version": "3.11.4"
  }
 },
 "nbformat": 4,
 "nbformat_minor": 2
}
